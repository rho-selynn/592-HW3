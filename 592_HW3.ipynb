{
  "nbformat": 4,
  "nbformat_minor": 0,
  "metadata": {
    "colab": {
      "name": "592-HW3.ipynb",
      "provenance": [],
      "authorship_tag": "ABX9TyOlw1hJp641ulufv9PDGdtZ",
      "include_colab_link": true
    },
    "kernelspec": {
      "name": "python3",
      "display_name": "Python 3"
    },
    "language_info": {
      "name": "python"
    }
  },
  "cells": [
    {
      "cell_type": "markdown",
      "metadata": {
        "id": "view-in-github",
        "colab_type": "text"
      },
      "source": [
        "<a href=\"https://colab.research.google.com/github/rho-selynn/592-HW3/blob/Roselynn/592_HW3.ipynb\" target=\"_parent\"><img src=\"https://colab.research.google.com/assets/colab-badge.svg\" alt=\"Open In Colab\"/></a>"
      ]
    },
    {
      "cell_type": "code",
      "execution_count": 4,
      "metadata": {
        "id": "ip2ho6wL-ZXD",
        "colab": {
          "base_uri": "https://localhost:8080/"
        },
        "outputId": "579a48b5-c869-4467-d0c8-0daf7248cc7e"
      },
      "outputs": [
        {
          "output_type": "stream",
          "name": "stdout",
          "text": [
            "Mounted at /content/mnt\n"
          ]
        }
      ],
      "source": [
        "# repo we're pushing/pulling to: https://github.com/rho-selynn/592-HW3\n",
        "# repo mentioned in the homework: https://github.com/udacity/RoboND-Rover-Project\n",
        "import os, sys\n",
        "from google.colab import drive\n",
        "# This mouunts your google drive to the current runtime\n",
        "drive.mount('/content/mnt')\n",
        "# We define a notebook path\n",
        "nb_path = '/content/notebooks'\n",
        "# We create a symbolic link from our drive's default \"Colab Notebooks\" folder to nb_path\n",
        "os.symlink('/content/mnt/My Drive/Colab Notebooks/', nb_path)\n",
        "# Insert nb path\n",
        "sys.path.insert(0, nb_path)"
      ]
    },
    {
      "cell_type": "code",
      "source": [
        "# reference: https://github.com/ManajitPal/DeepLearningForSelfDrivingCars/blob/master/drive.py\n",
        "# reference: https://github.com/hminle/car-behavioral-cloning-with-pytorch/\n",
        "# reference: https://towardsdatascience.com/deep-learning-for-self-driving-cars-7f198ef4cfa2\n",
        "# reference: https://arxiv.org/pdf/1604.07316v1.pdf \n",
        "# reference: https://github.com/abhinavsagar/Self-Driving-Car\n",
        "# reference: https://towardsdatascience.com/how-to-train-your-self-driving-car-using-deep-learning-ce8ff76119cb"
      ],
      "metadata": {
        "id": "BHp712w5k0e6"
      },
      "execution_count": 5,
      "outputs": []
    },
    {
      "cell_type": "code",
      "source": [
        "!unzip '/content/mnt/My Drive/Colab Notebooks/RoverTrainingData_Grid.zip'"
      ],
      "metadata": {
        "id": "EgG5rqgMzzfb"
      },
      "execution_count": null,
      "outputs": []
    },
    {
      "cell_type": "code",
      "source": [
        "# importing dependencies\n",
        "import cv2\n",
        "from google.colab.patches import cv2_imshow\n",
        "import numpy as np\n",
        "import pandas as pd\n",
        "import matplotlib.pyplot as plt\n",
        "\n",
        "%matplotlib inline\n",
        "\n",
        "import torch\n",
        "import torchvision\n",
        "import torchvision.transforms as transforms\n",
        "import torchvision.transforms.functional as TF\n",
        "\n",
        "from torchvision import models\n",
        "\n",
        "## Keras\n",
        "import keras\n",
        "from keras.models import Sequential\n",
        "from tensorflow.keras.optimizers import Adam # had to add \"tensorflow\"\n",
        "# reference: https://stackoverflow.com/questions/62707558/importerror-cannot-import-name-adam-from-keras-optimizers\n",
        "from keras.layers import Convolution2D, MaxPooling2D, Dropout, Flatten, Dense\n",
        "\n",
        "## Sklearn\n",
        "from sklearn.utils import shuffle\n",
        "from sklearn.model_selection import train_test_split\n",
        "\n",
        "import random\n",
        "import ntpath"
      ],
      "metadata": {
        "id": "RkH4THqSu6M4"
      },
      "execution_count": 16,
      "outputs": []
    },
    {
      "cell_type": "code",
      "source": [
        "# Store data\n",
        "datadir = 'RoverTrainingData_Grid'\n",
        "columns = ['Path','SteerAngle', 'Throttle', 'Brake', 'Speed', 'X_Position', 'Y_Position', 'Pitch', 'Yaw', 'Roll']\n",
        "data = pd.read_csv(os.path.join(datadir, 'robot_log.csv'), sep = ';', names = columns)\n",
        "pd.set_option('display.max_colwidth', -1)\n",
        "data.head()"
      ],
      "metadata": {
        "colab": {
          "base_uri": "https://localhost:8080/",
          "height": 263
        },
        "id": "CBNnqGlPvgac",
        "outputId": "55f274e7-5b0e-4adc-b5d3-c65b44a1725c"
      },
      "execution_count": 17,
      "outputs": [
        {
          "output_type": "stream",
          "name": "stderr",
          "text": [
            "/usr/local/lib/python3.7/dist-packages/ipykernel_launcher.py:5: FutureWarning: Passing a negative integer is deprecated in version 1.0 and will not be supported in future version. Instead, use None to not limit the column width.\n",
            "  \"\"\"\n"
          ]
        },
        {
          "output_type": "execute_result",
          "data": {
            "text/plain": [
              "                                                                                                                Path  \\\n",
              "0  Path                                                                                                                \n",
              "1  C:\\Users\\Roselynn Conrady\\Documents\\GitHub\\592-HW3\\RoverTrainingData_Grid\\IMG\\robocam_2022_03_23_15_22_10_540.jpg   \n",
              "2  C:\\Users\\Roselynn Conrady\\Documents\\GitHub\\592-HW3\\RoverTrainingData_Grid\\IMG\\robocam_2022_03_23_15_22_10_597.jpg   \n",
              "3  C:\\Users\\Roselynn Conrady\\Documents\\GitHub\\592-HW3\\RoverTrainingData_Grid\\IMG\\robocam_2022_03_23_15_22_10_671.jpg   \n",
              "4  C:\\Users\\Roselynn Conrady\\Documents\\GitHub\\592-HW3\\RoverTrainingData_Grid\\IMG\\robocam_2022_03_23_15_22_10_732.jpg   \n",
              "\n",
              "   SteerAngle  Throttle  Brake  Speed  X_Position  Y_Position         Pitch  \\\n",
              "0  SteerAngle  Throttle  Brake  Speed  X_Position  Y_Position  Pitch          \n",
              "1  0           0         1      0      99.66999    85.58897    0.0002357864   \n",
              "2  0           0         0      0      99.66999    85.58897    0.0002357864   \n",
              "3  0           0         0      0      99.66999    85.58897    0.0002357864   \n",
              "4  0           0         0      0      99.66999    85.58897    0.0002357864   \n",
              "\n",
              "        Yaw           Roll  \n",
              "0  Yaw       Roll           \n",
              "1  40.24681  -5.999252E-07  \n",
              "2  40.24681  -5.999252E-07  \n",
              "3  40.24681  -5.999252E-07  \n",
              "4  40.24681  -5.999252E-07  "
            ],
            "text/html": [
              "\n",
              "  <div id=\"df-81e6349f-e24d-4f0d-acbd-3900fee33320\">\n",
              "    <div class=\"colab-df-container\">\n",
              "      <div>\n",
              "<style scoped>\n",
              "    .dataframe tbody tr th:only-of-type {\n",
              "        vertical-align: middle;\n",
              "    }\n",
              "\n",
              "    .dataframe tbody tr th {\n",
              "        vertical-align: top;\n",
              "    }\n",
              "\n",
              "    .dataframe thead th {\n",
              "        text-align: right;\n",
              "    }\n",
              "</style>\n",
              "<table border=\"1\" class=\"dataframe\">\n",
              "  <thead>\n",
              "    <tr style=\"text-align: right;\">\n",
              "      <th></th>\n",
              "      <th>Path</th>\n",
              "      <th>SteerAngle</th>\n",
              "      <th>Throttle</th>\n",
              "      <th>Brake</th>\n",
              "      <th>Speed</th>\n",
              "      <th>X_Position</th>\n",
              "      <th>Y_Position</th>\n",
              "      <th>Pitch</th>\n",
              "      <th>Yaw</th>\n",
              "      <th>Roll</th>\n",
              "    </tr>\n",
              "  </thead>\n",
              "  <tbody>\n",
              "    <tr>\n",
              "      <th>0</th>\n",
              "      <td>Path</td>\n",
              "      <td>SteerAngle</td>\n",
              "      <td>Throttle</td>\n",
              "      <td>Brake</td>\n",
              "      <td>Speed</td>\n",
              "      <td>X_Position</td>\n",
              "      <td>Y_Position</td>\n",
              "      <td>Pitch</td>\n",
              "      <td>Yaw</td>\n",
              "      <td>Roll</td>\n",
              "    </tr>\n",
              "    <tr>\n",
              "      <th>1</th>\n",
              "      <td>C:\\Users\\Roselynn Conrady\\Documents\\GitHub\\592-HW3\\RoverTrainingData_Grid\\IMG\\robocam_2022_03_23_15_22_10_540.jpg</td>\n",
              "      <td>0</td>\n",
              "      <td>0</td>\n",
              "      <td>1</td>\n",
              "      <td>0</td>\n",
              "      <td>99.66999</td>\n",
              "      <td>85.58897</td>\n",
              "      <td>0.0002357864</td>\n",
              "      <td>40.24681</td>\n",
              "      <td>-5.999252E-07</td>\n",
              "    </tr>\n",
              "    <tr>\n",
              "      <th>2</th>\n",
              "      <td>C:\\Users\\Roselynn Conrady\\Documents\\GitHub\\592-HW3\\RoverTrainingData_Grid\\IMG\\robocam_2022_03_23_15_22_10_597.jpg</td>\n",
              "      <td>0</td>\n",
              "      <td>0</td>\n",
              "      <td>0</td>\n",
              "      <td>0</td>\n",
              "      <td>99.66999</td>\n",
              "      <td>85.58897</td>\n",
              "      <td>0.0002357864</td>\n",
              "      <td>40.24681</td>\n",
              "      <td>-5.999252E-07</td>\n",
              "    </tr>\n",
              "    <tr>\n",
              "      <th>3</th>\n",
              "      <td>C:\\Users\\Roselynn Conrady\\Documents\\GitHub\\592-HW3\\RoverTrainingData_Grid\\IMG\\robocam_2022_03_23_15_22_10_671.jpg</td>\n",
              "      <td>0</td>\n",
              "      <td>0</td>\n",
              "      <td>0</td>\n",
              "      <td>0</td>\n",
              "      <td>99.66999</td>\n",
              "      <td>85.58897</td>\n",
              "      <td>0.0002357864</td>\n",
              "      <td>40.24681</td>\n",
              "      <td>-5.999252E-07</td>\n",
              "    </tr>\n",
              "    <tr>\n",
              "      <th>4</th>\n",
              "      <td>C:\\Users\\Roselynn Conrady\\Documents\\GitHub\\592-HW3\\RoverTrainingData_Grid\\IMG\\robocam_2022_03_23_15_22_10_732.jpg</td>\n",
              "      <td>0</td>\n",
              "      <td>0</td>\n",
              "      <td>0</td>\n",
              "      <td>0</td>\n",
              "      <td>99.66999</td>\n",
              "      <td>85.58897</td>\n",
              "      <td>0.0002357864</td>\n",
              "      <td>40.24681</td>\n",
              "      <td>-5.999252E-07</td>\n",
              "    </tr>\n",
              "  </tbody>\n",
              "</table>\n",
              "</div>\n",
              "      <button class=\"colab-df-convert\" onclick=\"convertToInteractive('df-81e6349f-e24d-4f0d-acbd-3900fee33320')\"\n",
              "              title=\"Convert this dataframe to an interactive table.\"\n",
              "              style=\"display:none;\">\n",
              "        \n",
              "  <svg xmlns=\"http://www.w3.org/2000/svg\" height=\"24px\"viewBox=\"0 0 24 24\"\n",
              "       width=\"24px\">\n",
              "    <path d=\"M0 0h24v24H0V0z\" fill=\"none\"/>\n",
              "    <path d=\"M18.56 5.44l.94 2.06.94-2.06 2.06-.94-2.06-.94-.94-2.06-.94 2.06-2.06.94zm-11 1L8.5 8.5l.94-2.06 2.06-.94-2.06-.94L8.5 2.5l-.94 2.06-2.06.94zm10 10l.94 2.06.94-2.06 2.06-.94-2.06-.94-.94-2.06-.94 2.06-2.06.94z\"/><path d=\"M17.41 7.96l-1.37-1.37c-.4-.4-.92-.59-1.43-.59-.52 0-1.04.2-1.43.59L10.3 9.45l-7.72 7.72c-.78.78-.78 2.05 0 2.83L4 21.41c.39.39.9.59 1.41.59.51 0 1.02-.2 1.41-.59l7.78-7.78 2.81-2.81c.8-.78.8-2.07 0-2.86zM5.41 20L4 18.59l7.72-7.72 1.47 1.35L5.41 20z\"/>\n",
              "  </svg>\n",
              "      </button>\n",
              "      \n",
              "  <style>\n",
              "    .colab-df-container {\n",
              "      display:flex;\n",
              "      flex-wrap:wrap;\n",
              "      gap: 12px;\n",
              "    }\n",
              "\n",
              "    .colab-df-convert {\n",
              "      background-color: #E8F0FE;\n",
              "      border: none;\n",
              "      border-radius: 50%;\n",
              "      cursor: pointer;\n",
              "      display: none;\n",
              "      fill: #1967D2;\n",
              "      height: 32px;\n",
              "      padding: 0 0 0 0;\n",
              "      width: 32px;\n",
              "    }\n",
              "\n",
              "    .colab-df-convert:hover {\n",
              "      background-color: #E2EBFA;\n",
              "      box-shadow: 0px 1px 2px rgba(60, 64, 67, 0.3), 0px 1px 3px 1px rgba(60, 64, 67, 0.15);\n",
              "      fill: #174EA6;\n",
              "    }\n",
              "\n",
              "    [theme=dark] .colab-df-convert {\n",
              "      background-color: #3B4455;\n",
              "      fill: #D2E3FC;\n",
              "    }\n",
              "\n",
              "    [theme=dark] .colab-df-convert:hover {\n",
              "      background-color: #434B5C;\n",
              "      box-shadow: 0px 1px 3px 1px rgba(0, 0, 0, 0.15);\n",
              "      filter: drop-shadow(0px 1px 2px rgba(0, 0, 0, 0.3));\n",
              "      fill: #FFFFFF;\n",
              "    }\n",
              "  </style>\n",
              "\n",
              "      <script>\n",
              "        const buttonEl =\n",
              "          document.querySelector('#df-81e6349f-e24d-4f0d-acbd-3900fee33320 button.colab-df-convert');\n",
              "        buttonEl.style.display =\n",
              "          google.colab.kernel.accessAllowed ? 'block' : 'none';\n",
              "\n",
              "        async function convertToInteractive(key) {\n",
              "          const element = document.querySelector('#df-81e6349f-e24d-4f0d-acbd-3900fee33320');\n",
              "          const dataTable =\n",
              "            await google.colab.kernel.invokeFunction('convertToInteractive',\n",
              "                                                     [key], {});\n",
              "          if (!dataTable) return;\n",
              "\n",
              "          const docLinkHtml = 'Like what you see? Visit the ' +\n",
              "            '<a target=\"_blank\" href=https://colab.research.google.com/notebooks/data_table.ipynb>data table notebook</a>'\n",
              "            + ' to learn more about interactive tables.';\n",
              "          element.innerHTML = '';\n",
              "          dataTable['output_type'] = 'display_data';\n",
              "          await google.colab.output.renderOutput(dataTable, element);\n",
              "          const docLink = document.createElement('div');\n",
              "          docLink.innerHTML = docLinkHtml;\n",
              "          element.appendChild(docLink);\n",
              "        }\n",
              "      </script>\n",
              "    </div>\n",
              "  </div>\n",
              "  "
            ]
          },
          "metadata": {},
          "execution_count": 17
        }
      ]
    },
    {
      "cell_type": "code",
      "source": [
        ""
      ],
      "metadata": {
        "id": "XBNmhcre1EFC"
      },
      "execution_count": 18,
      "outputs": []
    }
  ]
}