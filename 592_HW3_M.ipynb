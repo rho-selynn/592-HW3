{
  "nbformat": 4,
  "nbformat_minor": 0,
  "metadata": {
    "colab": {
      "name": "592-HW3.ipynb",
      "provenance": [],
      "include_colab_link": true
    },
    "kernelspec": {
      "name": "python3",
      "display_name": "Python 3"
    },
    "language_info": {
      "name": "python"
    },
    "accelerator": "GPU"
  },
  "cells": [
    {
      "cell_type": "markdown",
      "metadata": {
        "id": "view-in-github",
        "colab_type": "text"
      },
      "source": [
        "<a href=\"https://colab.research.google.com/github/rho-selynn/592-HW3/blob/Roselynn/592_HW3_M.ipynb\" target=\"_parent\"><img src=\"https://colab.research.google.com/assets/colab-badge.svg\" alt=\"Open In Colab\"/></a>"
      ]
    },
    {
      "cell_type": "code",
      "source": [
        "! nvidia-smi"
      ],
      "metadata": {
        "id": "hsQwnrFHZMF8",
        "outputId": "484dfa9d-384e-424a-c902-e35121c9e5a7",
        "colab": {
          "base_uri": "https://localhost:8080/"
        }
      },
      "execution_count": null,
      "outputs": [
        {
          "output_type": "stream",
          "name": "stdout",
          "text": [
            "Tue Mar 29 13:30:15 2022       \n",
            "+-----------------------------------------------------------------------------+\n",
            "| NVIDIA-SMI 460.32.03    Driver Version: 460.32.03    CUDA Version: 11.2     |\n",
            "|-------------------------------+----------------------+----------------------+\n",
            "| GPU  Name        Persistence-M| Bus-Id        Disp.A | Volatile Uncorr. ECC |\n",
            "| Fan  Temp  Perf  Pwr:Usage/Cap|         Memory-Usage | GPU-Util  Compute M. |\n",
            "|                               |                      |               MIG M. |\n",
            "|===============================+======================+======================|\n",
            "|   0  Tesla K80           Off  | 00000000:00:04.0 Off |                    0 |\n",
            "| N/A   65C    P8    33W / 149W |      0MiB / 11441MiB |      0%      Default |\n",
            "|                               |                      |                  N/A |\n",
            "+-------------------------------+----------------------+----------------------+\n",
            "                                                                               \n",
            "+-----------------------------------------------------------------------------+\n",
            "| Processes:                                                                  |\n",
            "|  GPU   GI   CI        PID   Type   Process name                  GPU Memory |\n",
            "|        ID   ID                                                   Usage      |\n",
            "|=============================================================================|\n",
            "|  No running processes found                                                 |\n",
            "+-----------------------------------------------------------------------------+\n"
          ]
        }
      ]
    },
    {
      "cell_type": "code",
      "execution_count": null,
      "metadata": {
        "id": "ip2ho6wL-ZXD",
        "outputId": "3a69040f-35dd-43e2-c48e-48084085da2d",
        "colab": {
          "base_uri": "https://localhost:8080/",
          "height": 195
        }
      },
      "outputs": [
        {
          "output_type": "display_data",
          "data": {
            "text/plain": [
              "<PIL.Image.Image image mode=L size=320x160 at 0x7FD87432D4D0>"
            ],
            "image/png": "[encoded data removed]"
          },
          "metadata": {}
        },
        {
          "output_type": "stream",
          "name": "stdout",
          "text": [
            "(1000, 160, 320)\n"
          ]
        }
      ],
      "source": [
        "from torch import int64\n",
        "import cv2 \n",
        "import os \n",
        "import glob \n",
        "from google.colab.patches import cv2_imshow\n",
        "import numpy as np\n",
        "import torch\n",
        "img_dir = \"Images\"\n",
        "data_path = os.path.join(img_dir,'*g') \n",
        "files = glob.glob(data_path) \n",
        "Images = [] \n",
        "for f1 in files: \n",
        "    img = cv2.imread(f1, 0) \n",
        "    Images.append(img)\n",
        "Images = np.array(Images)\n",
        "cv2_imshow(Images[0])\n",
        "print(np.shape(Images))\n",
        "Images = (np.divide(Images, 255))\n",
        "Images = Images.astype(float)"
      ]
    },
    {
      "cell_type": "code",
      "source": [
        "controlData = np.loadtxt('Robot Log/robot_log.csv', delimiter = ';', skiprows = 1, usecols = (1,2,3), dtype = float)\n",
        "controlData  /= 15\n",
        "print(np.amax(controlData))\n",
        "print(controlData)"
      ],
      "metadata": {
        "id": "yuII9wpQZSKn",
        "outputId": "4b7d7add-34d0-43c3-de4e-5ea6c0271af1",
        "colab": {
          "base_uri": "https://localhost:8080/"
        }
      },
      "execution_count": null,
      "outputs": [
        {
          "output_type": "stream",
          "name": "stdout",
          "text": [
            "1.0\n",
            "[[0.         0.         0.06666667]\n",
            " [0.         0.         0.        ]\n",
            " [0.         0.         0.        ]\n",
            " ...\n",
            " [0.         0.         0.        ]\n",
            " [0.         0.         0.        ]\n",
            " [0.         0.         0.        ]]\n"
          ]
        }
      ]
    },
    {
      "cell_type": "code",
      "source": [
        "from torch.utils.data import TensorDataset\n",
        "ImagesTrain = torch.tensor(Images[0:800])\n",
        "steerDataTrain = torch.tensor(controlData[0:800, 0])\n",
        "trainSteerDataset = TensorDataset(ImagesTrain, steerDataTrain)\n",
        "ImagesTest = torch.tensor(Images[801:999])\n",
        "steerDataTest = torch.tensor(controlData[801:999, 0])\n",
        "testSteerDataset = TensorDataset(ImagesTest, steerDataTest)\n",
        "throttleDataTrain = torch.tensor(controlData[0:800, 1])\n",
        "trainThrottleDataset = TensorDataset(ImagesTrain, throttleDataTrain)\n",
        "throttleDataTest = torch.tensor(controlData[801:999, 1])\n",
        "testThrottleDataset = TensorDataset(ImagesTest, throttleDataTest)"
      ],
      "metadata": {
        "id": "cPrLZYJmYrnF"
      },
      "execution_count": null,
      "outputs": []
    },
    {
      "cell_type": "code",
      "source": [
        "steerTrainDataLoader = torch.utils.data.DataLoader(trainSteerDataset, batch_size=64, shuffle=True)\n",
        "steerTestDataLoader = torch.utils.data.DataLoader(testSteerDataset, batch_size=64, shuffle=False)\n",
        "throttleTrainDataLoader = torch.utils.data.DataLoader(trainThrottleDataset, batch_size=64, shuffle=True)\n",
        "throttleTestDataLoader = torch.utils.data.DataLoader(testThrottleDataset, batch_size=64, shuffle=False)"
      ],
      "metadata": {
        "id": "y2D6DLvnS212"
      },
      "execution_count": null,
      "outputs": []
    },
    {
      "cell_type": "code",
      "source": [
        "class LR(torch.nn.Module):\n",
        "    def __init__(self):\n",
        "        super(LR, self).__init__()\n",
        "        self.linear1 = torch.nn.Linear(160*320, 128) # W:784x128 , b:128x1 , parameters = [W,b]\n",
        "        self.linear2 = torch.nn.Linear(128, 10)\n",
        "        self.linear3 = torch.nn.Linear(10, 1)\n",
        "    \n",
        "    def forward(self, x):\n",
        "        x = x.view(-1,160*320)\n",
        "        transformed_x1 = self.linear1(x)\n",
        "        transformed_x2 = self.linear2(transformed_x1)\n",
        "        transformed_x3 = self.linear3(transformed_x2)\n",
        "        return transformed_x3\n",
        "Steernet = LR()\n",
        "Steeroptimizer = torch.optim.Adam(Steernet.parameters(), lr=0.01)\n",
        "criterion = torch.nn.MSELoss()\n",
        "Thrustnet = LR()\n",
        "Thrustoptimizer = torch.optim.Adam(Thrustnet.parameters(), lr=0.01)\n",
        "criterion = torch.nn.MSELoss()"
      ],
      "metadata": {
        "id": "7jZ83TKFYKXS"
      },
      "execution_count": null,
      "outputs": []
    },
    {
      "cell_type": "code",
      "source": [
        "\n",
        "train_loss_history = []\n",
        "test_loss_history = []\n",
        "for epoch in range(20):\n",
        "    train_loss = 0.0\n",
        "    test_loss = 0.0\n",
        "    for i, data in enumerate(steerTrainDataLoader):\n",
        "        images, labels = data\n",
        "        images = images.to(torch.float32)\n",
        "        labels = labels.to(torch.float32)\n",
        "        Steeroptimizer.zero_grad()\n",
        "        predicted_output = Steernet(images.float())\n",
        "        predicted_output = predicted_output.to(torch.float32)\n",
        "        loss = criterion(predicted_output, labels)\n",
        "        loss.backward()\n",
        "        Steeroptimizer.step()\n",
        "        train_loss += loss.item()\n",
        "    for i, data in enumerate(steerTestDataLoader):\n",
        "        with torch.no_grad():\n",
        "            images, labels = data\n",
        "            predicted_output = Steernet(images.float())\n",
        "            loss = criterion(predicted_output, labels.long())\n",
        "            test_loss += loss.item()\n",
        "    train_loss = train_loss/len(steerTrainDataLoader)\n",
        "    test_loss = test_loss/len(steerTestDataLoader)\n",
        "    train_loss_history.append(train_loss)\n",
        "    test_loss_history.append(test_loss)\n",
        "    print('Epoch %s finished with train loss %s and test loss %s'%(epoch, train_loss, test_loss))"
      ],
      "metadata": {
        "id": "axoyywmxYreS",
        "outputId": "bc7ebb17-7834-4069-a905-896f2f41252c",
        "colab": {
          "base_uri": "https://localhost:8080/"
        }
      },
      "execution_count": null,
      "outputs": [
        {
          "output_type": "stream",
          "name": "stderr",
          "text": [
            "/usr/local/lib/python3.7/dist-packages/torch/nn/modules/loss.py:520: UserWarning: Using a target size (torch.Size([64])) that is different to the input size (torch.Size([64, 1])). This will likely lead to incorrect results due to broadcasting. Please ensure they have the same size.\n",
            "  return F.mse_loss(input, target, reduction=self.reduction)\n",
            "/usr/local/lib/python3.7/dist-packages/torch/nn/modules/loss.py:520: UserWarning: Using a target size (torch.Size([32])) that is different to the input size (torch.Size([32, 1])). This will likely lead to incorrect results due to broadcasting. Please ensure they have the same size.\n",
            "  return F.mse_loss(input, target, reduction=self.reduction)\n",
            "/usr/local/lib/python3.7/dist-packages/torch/nn/modules/loss.py:520: UserWarning: Using a target size (torch.Size([6])) that is different to the input size (torch.Size([6, 1])). This will likely lead to incorrect results due to broadcasting. Please ensure they have the same size.\n",
            "  return F.mse_loss(input, target, reduction=self.reduction)\n"
          ]
        },
        {
          "output_type": "stream",
          "name": "stdout",
          "text": [
            "Epoch 0 finished with train loss 123047.26793257777 and test loss 29621.2353515625\n",
            "Epoch 1 finished with train loss 12573.86684681819 and test loss 2220.3916625976562\n",
            "Epoch 2 finished with train loss 2421.189896620237 and test loss 853.228271484375\n",
            "Epoch 3 finished with train loss 702.871447123014 and test loss 58.321556091308594\n",
            "Epoch 4 finished with train loss 163.42301471416766 and test loss 11.61970591545105\n",
            "Epoch 5 finished with train loss 31.42687078622671 and test loss 18.643069744110107\n",
            "Epoch 6 finished with train loss 9.47873434653649 and test loss 10.814413070678711\n",
            "Epoch 7 finished with train loss 6.204978521053608 and test loss 4.955151677131653\n",
            "Epoch 8 finished with train loss 4.001361736884484 and test loss 3.3262534737586975\n",
            "Epoch 9 finished with train loss 3.048059005003709 and test loss 2.533676028251648\n",
            "Epoch 10 finished with train loss 2.5793551481687107 and test loss 2.0956283807754517\n",
            "Epoch 11 finished with train loss 2.1168256447865414 and test loss 1.7277187407016754\n",
            "Epoch 12 finished with train loss 1.795904700572674 and test loss 1.4374575018882751\n",
            "Epoch 13 finished with train loss 1.5410237954213069 and test loss 1.1845784038305283\n",
            "Epoch 14 finished with train loss 1.2927048618976886 and test loss 0.9821629375219345\n",
            "Epoch 15 finished with train loss 1.127988608983847 and test loss 0.8074724674224854\n",
            "Epoch 16 finished with train loss 0.9523483285537133 and test loss 0.6754254400730133\n",
            "Epoch 17 finished with train loss 0.825360371516301 and test loss 0.548398844897747\n",
            "Epoch 18 finished with train loss 0.7104263443213242 and test loss 0.45610713958740234\n",
            "Epoch 19 finished with train loss 0.6316347901637738 and test loss 0.3780301734805107\n"
          ]
        }
      ]
    },
    {
      "cell_type": "code",
      "source": [
        "import sys\n",
        "import numpy\n",
        "numpy.set_printoptions(threshold=sys.maxsize)\n",
        "predicted_output = Steernet(images.float())\n",
        "loss = criterion(predicted_output, labels)\n",
        "print(predicted_output)\n",
        "print(labels)\n",
        "print('loss:' + str(loss))"
      ],
      "metadata": {
        "colab": {
          "base_uri": "https://localhost:8080/"
        },
        "id": "Vx0N27gqfGOV",
        "outputId": "542f1210-6549-4e74-83d8-86a69faf6beb"
      },
      "execution_count": null,
      "outputs": [
        {
          "output_type": "stream",
          "name": "stdout",
          "text": [
            "tensor([[0.4093],\n",
            "        [0.4251],\n",
            "        [0.4544],\n",
            "        [0.3692],\n",
            "        [0.4341],\n",
            "        [0.4237],\n",
            "        [0.3474],\n",
            "        [0.4074],\n",
            "        [0.4786],\n",
            "        [0.4102],\n",
            "        [0.4201],\n",
            "        [0.3999],\n",
            "        [0.4369],\n",
            "        [0.4320],\n",
            "        [0.4207],\n",
            "        [0.4623],\n",
            "        [0.4061],\n",
            "        [0.4347],\n",
            "        [0.4133],\n",
            "        [0.4135],\n",
            "        [0.4457],\n",
            "        [0.4183],\n",
            "        [0.3504],\n",
            "        [0.4499],\n",
            "        [0.4296],\n",
            "        [0.3940],\n",
            "        [0.4135],\n",
            "        [0.4294],\n",
            "        [0.3941],\n",
            "        [0.3515],\n",
            "        [0.4287],\n",
            "        [0.4534],\n",
            "        [0.4564],\n",
            "        [0.3315],\n",
            "        [0.4135],\n",
            "        [0.3973],\n",
            "        [0.4135],\n",
            "        [0.3241],\n",
            "        [0.3775],\n",
            "        [0.4429],\n",
            "        [0.4259],\n",
            "        [0.4277],\n",
            "        [0.4327],\n",
            "        [0.4488],\n",
            "        [0.4843],\n",
            "        [0.3521],\n",
            "        [0.4127],\n",
            "        [0.4168],\n",
            "        [0.3894],\n",
            "        [0.4095],\n",
            "        [0.4189],\n",
            "        [0.4581],\n",
            "        [0.4129],\n",
            "        [0.4553],\n",
            "        [0.4135],\n",
            "        [0.4393],\n",
            "        [0.4500],\n",
            "        [0.4623],\n",
            "        [0.4135],\n",
            "        [0.4388],\n",
            "        [0.4089],\n",
            "        [0.4095],\n",
            "        [0.4269],\n",
            "        [0.3572]], grad_fn=<AddmmBackward0>)\n",
            "tensor([0.0667, 0.0000, 0.0000, 0.0000, 0.0667, 0.0000, 0.0000, 0.0000, 0.0000,\n",
            "        0.0000, 0.0667, 0.0000, 0.0000, 0.0000, 0.0667, 0.0000, 0.0000, 0.0667,\n",
            "        0.0000, 0.0000, 0.0000, 0.0667, 0.0000, 0.0000, 0.0000, 0.0667, 0.0000,\n",
            "        0.0667, 0.0000, 0.0000, 0.0667, 0.0000, 0.0667, 0.0000, 0.0000, 0.0667,\n",
            "        0.0000, 0.0000, 0.0667, 0.0667, 0.0667, 0.0000, 0.0000, 0.0000, 0.0667,\n",
            "        0.0000, 0.0000, 0.0667, 0.0667, 0.0000, 0.0667, 0.0000, 0.0000, 0.0667,\n",
            "        0.0667, 0.0667, 0.0000, 0.0000, 0.0667, 0.0667, 0.0000, 0.0000, 0.0667,\n",
            "        0.0000])\n",
            "loss:tensor(0.1557, grad_fn=<MseLossBackward0>)\n"
          ]
        },
        {
          "output_type": "stream",
          "name": "stderr",
          "text": [
            "/usr/local/lib/python3.7/dist-packages/torch/nn/modules/loss.py:520: UserWarning: Using a target size (torch.Size([64])) that is different to the input size (torch.Size([64, 1])). This will likely lead to incorrect results due to broadcasting. Please ensure they have the same size.\n",
            "  return F.mse_loss(input, target, reduction=self.reduction)\n"
          ]
        }
      ]
    },
    {
      "cell_type": "code",
      "source": [
        "train_loss_history = []\n",
        "test_loss_history = []\n",
        "for epoch in range(20):\n",
        "    train_loss = 0.0\n",
        "    test_loss = 0.0\n",
        "    for i, data in enumerate(throttleTrainDataLoader):\n",
        "        images, labels = data\n",
        "        images = images.to(torch.float32)\n",
        "        labels = labels.to(torch.float32)\n",
        "        Thrustoptimizer.zero_grad()\n",
        "        predicted_output = Thrustnet(images.float())\n",
        "        predicted_output = predicted_output.to(torch.float32)\n",
        "        loss = criterion(predicted_output, labels)\n",
        "        loss.backward()\n",
        "        Thrustoptimizer.step()\n",
        "        train_loss += loss.item()\n",
        "    for i, data in enumerate(throttleTestDataLoader):\n",
        "        with torch.no_grad():\n",
        "            images, labels = data\n",
        "            predicted_output = Thrustnet(images.float())\n",
        "            loss = criterion(predicted_output, labels.long())\n",
        "            test_loss += loss.item()\n",
        "    train_loss = train_loss/len(steerTrainDataLoader)\n",
        "    test_loss = test_loss/len(steerTestDataLoader)\n",
        "    train_loss_history.append(train_loss)\n",
        "    test_loss_history.append(test_loss)\n",
        "    print('Epoch %s finished with train loss %s and test loss %s'%(epoch, train_loss, test_loss))"
      ],
      "metadata": {
        "id": "FzOsko2WABCj",
        "outputId": "b25a440e-c390-4e42-ff92-6efe01d9b61e",
        "colab": {
          "base_uri": "https://localhost:8080/"
        }
      },
      "execution_count": null,
      "outputs": [
        {
          "output_type": "stream",
          "name": "stderr",
          "text": [
            "/usr/local/lib/python3.7/dist-packages/torch/nn/modules/loss.py:520: UserWarning: Using a target size (torch.Size([64])) that is different to the input size (torch.Size([64, 1])). This will likely lead to incorrect results due to broadcasting. Please ensure they have the same size.\n",
            "  return F.mse_loss(input, target, reduction=self.reduction)\n",
            "/usr/local/lib/python3.7/dist-packages/torch/nn/modules/loss.py:520: UserWarning: Using a target size (torch.Size([32])) that is different to the input size (torch.Size([32, 1])). This will likely lead to incorrect results due to broadcasting. Please ensure they have the same size.\n",
            "  return F.mse_loss(input, target, reduction=self.reduction)\n",
            "/usr/local/lib/python3.7/dist-packages/torch/nn/modules/loss.py:520: UserWarning: Using a target size (torch.Size([6])) that is different to the input size (torch.Size([6, 1])). This will likely lead to incorrect results due to broadcasting. Please ensure they have the same size.\n",
            "  return F.mse_loss(input, target, reduction=self.reduction)\n"
          ]
        },
        {
          "output_type": "stream",
          "name": "stdout",
          "text": [
            "Epoch 0 finished with train loss 0.035119354008482054 and test loss 0.03895525215193629\n",
            "Epoch 1 finished with train loss 0.032069939690140575 and test loss 0.03318167617544532\n",
            "Epoch 2 finished with train loss 0.030259399459912226 and test loss 0.03215402411296964\n",
            "Epoch 3 finished with train loss 0.02841646711413677 and test loss 0.029606620781123638\n",
            "Epoch 4 finished with train loss 0.026580575710305802 and test loss 0.027498560957610607\n",
            "Epoch 5 finished with train loss 0.02455295264147795 and test loss 0.028849771711975336\n",
            "Epoch 6 finished with train loss 0.022707703738258436 and test loss 0.02543908776715398\n",
            "Epoch 7 finished with train loss 0.021331677571512185 and test loss 0.02212241105735302\n",
            "Epoch 8 finished with train loss 0.019603529945015907 and test loss 0.022273307433351874\n",
            "Epoch 9 finished with train loss 0.0186730045825243 and test loss 0.020044469740241766\n",
            "Epoch 10 finished with train loss 0.017218997988563318 and test loss 0.020244956947863102\n",
            "Epoch 11 finished with train loss 0.016098452517046377 and test loss 0.01741819642484188\n",
            "Epoch 12 finished with train loss 0.015015031999120345 and test loss 0.017012967262417078\n",
            "Epoch 13 finished with train loss 0.013756053593869392 and test loss 0.01769740879535675\n",
            "Epoch 14 finished with train loss 0.013405932829930233 and test loss 0.015139228664338589\n",
            "Epoch 15 finished with train loss 0.01210145358569347 and test loss 0.01559609780088067\n",
            "Epoch 16 finished with train loss 0.011452906120281953 and test loss 0.014740058686584234\n",
            "Epoch 17 finished with train loss 0.011338219977915287 and test loss 0.01425315160304308\n",
            "Epoch 18 finished with train loss 0.010055635769206744 and test loss 0.012014009873382747\n",
            "Epoch 19 finished with train loss 0.00943901096112453 and test loss 0.012235606205649674\n"
          ]
        }
      ]
    }
  ]
}